{
 "cells": [
  {
   "cell_type": "markdown",
   "metadata": {
    "slideshow": {
     "slide_type": "slide"
    }
   },
   "source": [
    "# Week 2 session - Review: Python basics"
   ]
  },
  {
   "cell_type": "markdown",
   "metadata": {
    "slideshow": {
     "slide_type": "slide"
    }
   },
   "source": [
    "## Variable assignment\n",
    "\n",
    "What will be the output?"
   ]
  },
  {
   "cell_type": "code",
   "execution_count": 4,
   "metadata": {},
   "outputs": [
    {
     "name": "stdout",
     "output_type": "stream",
     "text": [
      "10HELLO8\n"
     ]
    }
   ],
   "source": [
    "a = 4*2\n",
    "b = a\n",
    "a += 2\n",
    "# a = a + 2\n",
    "\n",
    "print(a, b, sep='HELLO')"
   ]
  },
  {
   "cell_type": "markdown",
   "metadata": {
    "slideshow": {
     "slide_type": "slide"
    }
   },
   "source": [
    "## Strings\n",
    "\n",
    "What will be the output?"
   ]
  },
  {
   "cell_type": "code",
   "execution_count": 15,
   "metadata": {},
   "outputs": [
    {
     "name": "stdout",
     "output_type": "stream",
     "text": [
      "True\n",
      "9\n"
     ]
    }
   ],
   "source": [
    "name_1 = 'Charlotte'\n",
    "name_2 = 'Tommy'\n",
    "name_3 = 'Jia'\n",
    "\n",
    "# print(max(4, 2, 3))\n",
    "\n",
    "# Display the minimum value of the 3 names\n",
    "# print(min(name_1, name_2, name_3))\n",
    "\n",
    "print(name_1 < name_2)\n",
    "\n",
    "# Find and display the length of the longest string\n",
    "longest_length = max(len(name_1), len(name_2), len(name_3))\n",
    "print(longest_length)\n",
    "\n",
    "# print(len(max(name_1, name_2, name_3)))"
   ]
  },
  {
   "cell_type": "markdown",
   "metadata": {
    "slideshow": {
     "slide_type": "slide"
    }
   },
   "source": [
    "## Formatted strings (f-strings)\n",
    "\n",
    "[Documentation on f-strings](https://docs.python.org/3/tutorial/inputoutput.html#formatted-string-literals)\n",
    "\n",
    "`Maariya's flatmates are Tommy and Jia.`\n",
    "\n",
    "`Jia's room is the largest.`"
   ]
  },
  {
   "cell_type": "code",
   "execution_count": 25,
   "metadata": {},
   "outputs": [
    {
     "name": "stdout",
     "output_type": "stream",
     "text": [
      "Charlotte's flatmates are Tommy and Jia.\n",
      "Jia's room is the largest.\n"
     ]
    }
   ],
   "source": [
    "# sentence = f'{name_1}'s flatmates are {name_2} and {name_3}.'\n",
    "# sentence = f\"{name_1}'s flatmates are {name_2} and {name_3}.\"\n",
    "sentence = f'{name_1}\\'s flatmates are {name_2} and {name_3}.'\n",
    "# sentence_2 = f'{name_3}\\'s room is the largest.'\n",
    "sentence += f'\\n{name_3}\\'s room is the largest.'\n",
    "\n",
    "print(sentence)\n",
    "\n",
    "# print(sentence, sentence_2, sep='NEW SENTENCE HERE ')\n",
    "# print(sentence)\n",
    "# print(sentence_2)\n",
    "\n",
    "# print(name_1 + name_2)"
   ]
  },
  {
   "cell_type": "code",
   "execution_count": 27,
   "metadata": {
    "slideshow": {
     "slide_type": "slide"
    }
   },
   "outputs": [
    {
     "name": "stdout",
     "output_type": "stream",
     "text": [
      "Charlotte's flatmates are Tommy and Jia.\n",
      "Jia's room is the largest.\n"
     ]
    }
   ],
   "source": [
    "sentence = f'{name_1}\\'s flatmates are {name_2} and {name_3}.'\n",
    "sentence += f'\\n{name_3}\\'s room is the largest.'\n",
    "\n",
    "print(sentence)"
   ]
  },
  {
   "cell_type": "code",
   "execution_count": 30,
   "metadata": {},
   "outputs": [
    {
     "name": "stdout",
     "output_type": "stream",
     "text": [
      "Jia's flatmates are Tommy and Charlotte.\n"
     ]
    }
   ],
   "source": [
    "sentence = '{2}\\'s flatmates are {1} and {0}.'.format(name_1, name_2, name_3)\n",
    "print(sentence)"
   ]
  },
  {
   "cell_type": "code",
   "execution_count": 34,
   "metadata": {},
   "outputs": [
    {
     "name": "stdout",
     "output_type": "stream",
     "text": [
      "Charlotte  ==> Room 1\n",
      "  Tommy    ==> Room 2\n",
      "   Jia     ==> Room 3\n"
     ]
    }
   ],
   "source": [
    "room_allocation = f'{name_1:^10} ==> Room 1'\n",
    "room_allocation += f'\\n{name_2:^10} ==> Room 2'\n",
    "room_allocation += f'\\n{name_3:^10} ==> Room 3'\n",
    "\n",
    "print(room_allocation)"
   ]
  },
  {
   "cell_type": "code",
   "execution_count": 49,
   "metadata": {
    "slideshow": {
     "slide_type": "slide"
    }
   },
   "outputs": [
    {
     "name": "stdout",
     "output_type": "stream",
     "text": [
      "The value of pi is approximately 3.1416.\n"
     ]
    }
   ],
   "source": [
    "import math\n",
    "# print(f'The value of pi is approximately {math.pi:<10.5g}.')\n",
    "print(f'The value of pi is approximately {math.pi:.4f}.')"
   ]
  },
  {
   "cell_type": "code",
   "execution_count": 39,
   "metadata": {},
   "outputs": [
    {
     "name": "stdout",
     "output_type": "stream",
     "text": [
      "0.001\n"
     ]
    }
   ],
   "source": [
    "print(1e-3)"
   ]
  },
  {
   "cell_type": "code",
   "execution_count": null,
   "metadata": {},
   "outputs": [],
   "source": []
  }
 ],
 "metadata": {
  "celltoolbar": "Slideshow",
  "kernelspec": {
   "display_name": "Python 3 (ipykernel)",
   "language": "python",
   "name": "python3"
  },
  "language_info": {
   "codemirror_mode": {
    "name": "ipython",
    "version": 3
   },
   "file_extension": ".py",
   "mimetype": "text/x-python",
   "name": "python",
   "nbconvert_exporter": "python",
   "pygments_lexer": "ipython3",
   "version": "3.8.12"
  }
 },
 "nbformat": 4,
 "nbformat_minor": 4
}
